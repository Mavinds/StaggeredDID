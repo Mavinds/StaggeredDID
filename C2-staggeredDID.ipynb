{
 "cells": [
  {
   "cell_type": "code",
   "execution_count": null,
   "id": "4441a602-ccf4-489d-b4e8-3dfb179b3020",
   "metadata": {},
   "outputs": [],
   "source": [
    "import pandas as pd\n",
    "import requests\n",
    "import matplotlib.pyplot as plt\n",
    "import json\n",
    "from time import sleep\n",
    "import os\n",
    "import random\n",
    "from datetime import datetime, timedelta\n",
    "import geopandas as gpd\n",
    "from shapely.geometry import Point\n",
    "import time\n",
    "import numpy as np\n",
    "from matplotlib.colors import TwoSlopeNorm, Normalize\n",
    "from matplotlib.cm import ScalarMappable\n",
    "import matplotlib.colors as mcolors\n",
    "import folium\n",
    "from branca.colormap import linear\n",
    "import statsmodels.api as sm\n",
    "import statsmodels.formula.api as smf\n",
    "import branca.colormap as cm\n",
    "import statsmodels.formula.api as smf"
   ]
  },
  {
   "cell_type": "markdown",
   "id": "1a8c5a1e-a88a-46f3-842f-25b1305e00ad",
   "metadata": {},
   "source": [
    "## Load matched pairs dataframe"
   ]
  },
  {
   "cell_type": "code",
   "execution_count": null,
   "id": "ebb44fe3-7a74-4680-98b5-ca40357b61bb",
   "metadata": {},
   "outputs": [],
   "source": [
    "filtered_df2 = pd.read_csv('CityMatchedPOIsCleanedforDID.csv')"
   ]
  },
  {
   "cell_type": "code",
   "execution_count": null,
   "id": "761e0a25-7e65-446f-8879-956e9de7f8ca",
   "metadata": {},
   "outputs": [],
   "source": [
    "long_df = pd.DataFrame({\n",
    "    'poi_id': filtered_df2['Original POI ID'].tolist() * 2 + filtered_df2['POI ID'].tolist() * 2,\n",
    "    'group': ['original'] * len(filtered_df2) * 2 + ['similar'] * len(filtered_df2) * 2,\n",
    "    'time': ['pre'] * len(filtered_df2) + ['post'] * len(filtered_df2) + ['pre'] * len(filtered_df2) + ['post'] * len(filtered_df2),\n",
    "    'visits': filtered_df2['Original Avg Pre Open'].tolist() + filtered_df2['Original Avg Post Open'].tolist() + filtered_df2['Avg Pre Open'].tolist() + filtered_df2['Avg Post Open'].tolist(),\n",
    "    'city': filtered_df2['City'].tolist() *2 + filtered_df2['City'].tolist() * 2,\n",
    "    'category': filtered_df2['Group'].tolist() * 2 + filtered_df2['Group'].tolist() * 2,\n",
    "    'Similar_POI_Zip_Code': filtered_df2['Zip_Code'].tolist() * 2 + filtered_df2['Zip_Code'].tolist() * 2,\n",
    "    'distance_group': filtered_df2['distance_group'].tolist() * 2 + filtered_df2['distance_group'].tolist() * 2,\n",
    "    'year': filtered_df2['Original POI Open Year'].tolist() * 4\n",
    "})"
   ]
  },
  {
   "cell_type": "code",
   "execution_count": null,
   "id": "eb7e5573-44b7-4084-8605-629efc9082ed",
   "metadata": {},
   "outputs": [],
   "source": [
    "long_df['groupbinary']= long_df['group'].apply(lambda x:1 if x=='original' else 0)\n",
    "long_df['timebinary']= long_df['time'].apply(lambda x:1 if x=='post' else 0)"
   ]
  },
  {
   "cell_type": "code",
   "execution_count": null,
   "id": "e8f12c17-c67d-4e01-92bf-78e9ef02689b",
   "metadata": {},
   "outputs": [],
   "source": [
    "long_df"
   ]
  },
  {
   "cell_type": "code",
   "execution_count": null,
   "id": "0705879c-799f-4430-9db1-f37df7a389e6",
   "metadata": {},
   "outputs": [],
   "source": [
    "long_df['groupbinary']= long_df['group'].apply(lambda x:1 if x=='original' else 0)\n",
    "long_df['timebinary']= long_df['time'].apply(lambda x:1 if x=='post' else 0)"
   ]
  },
  {
   "cell_type": "markdown",
   "id": "0d6e9f99-1fcd-4aa0-b918-cf676bbd546b",
   "metadata": {},
   "source": [
    "## Vanila DID algorithm"
   ]
  },
  {
   "cell_type": "code",
   "execution_count": null,
   "id": "216044eb-f2ef-4468-94df-69282cd2713d",
   "metadata": {},
   "outputs": [],
   "source": [
    "model = smf.ols('visits ~ (groupbinary) : (timebinary) + C(year) +  C(poi_id)', data=long_df).fit()\n",
    "print(model.summary())"
   ]
  },
  {
   "cell_type": "code",
   "execution_count": null,
   "id": "88d0eba1-ddae-420a-9d2b-480362f8e2d6",
   "metadata": {},
   "outputs": [],
   "source": []
  },
  {
   "cell_type": "markdown",
   "id": "dd65e325-6d8f-431d-bf7f-d356448be5d2",
   "metadata": {},
   "source": [
    "## Heterogeneous treatment effects"
   ]
  },
  {
   "cell_type": "code",
   "execution_count": null,
   "id": "226cff4f-d248-4f3d-b4f3-626188bf9843",
   "metadata": {},
   "outputs": [],
   "source": [
    "distance_groups = ['0-100m', '100-200m', '200-300m', '300-400m']"
   ]
  },
  {
   "cell_type": "code",
   "execution_count": null,
   "id": "e63e26e1-f4dc-4c06-83bf-94c5058e83a0",
   "metadata": {},
   "outputs": [],
   "source": [
    "for group in distance_groups:\n",
    "    long_df[f'distance_group_{group.replace(\"-\", \"_\").replace(\"m\", \"\")}'] = (long_df['distance_group'] == group).astype(int)"
   ]
  },
  {
   "cell_type": "code",
   "execution_count": null,
   "id": "3acc24ac-d5fa-42b6-8377-6e408d2807f5",
   "metadata": {},
   "outputs": [],
   "source": [
    "poi_categories = ['Apparel', 'Beauty & Spa', 'Buildings and Entertainment Centers', 'Dining', 'Groceries','Home Improvements & Furnishings','Hotels & Casinos', 'Leisure','Medical & Health','Shopping Centers', 'Shops & Services']"
   ]
  },
  {
   "cell_type": "code",
   "execution_count": null,
   "id": "9a22daf3-28b4-4b78-888b-f7d9aacb01d7",
   "metadata": {},
   "outputs": [],
   "source": [
    "for category in poi_categories:\n",
    "    long_df[f'category_{category.replace(\" \", \"_\").replace(\"&\", \"and\")}'] = (long_df['category'] == category).astype(int)"
   ]
  },
  {
   "cell_type": "code",
   "execution_count": null,
   "id": "1ee3f50e-6a8f-432e-8f63-948b0d68f5f9",
   "metadata": {},
   "outputs": [],
   "source": [
    "model_distance = smf.ols('visits ~ (groupbinary) : (timebinary) :(distance_group_0_100) + (groupbinary) : (timebinary) : (distance_group_100_200) + (groupbinary) : (timebinary) : (distance_group_200_300)+ (groupbinary) : (timebinary):(distance_group_300_400) + C(year) + C(poi_id)', \n",
    "                data=long_df).fit()\n",
    "print(model_distance.summary())"
   ]
  },
  {
   "cell_type": "code",
   "execution_count": null,
   "id": "fcfcb19f-6b4f-4265-85be-fc0651b3e677",
   "metadata": {
    "scrolled": true
   },
   "outputs": [],
   "source": [
    "model_cat = smf.ols('visits ~ (groupbinary) : (timebinary) :(category_Apparel) + (groupbinary) : (timebinary) : (category_Beauty_and_Spa) + (groupbinary) : (timebinary) : (category_Buildings_and_Entertainment_Centers)+ (groupbinary) : (timebinary):(category_Dining)+ (groupbinary) : (timebinary) :(category_Groceries) + (groupbinary) : (timebinary) :(category_Home_Improvements_and_Furnishings)  + (groupbinary) : (timebinary) :(category_Hotels_and_Casinos)  + (groupbinary) : (timebinary) :(category_Leisure)  + (groupbinary) : (timebinary) :(category_Medical_and_Health)  + (groupbinary) : (timebinary) :(category_Shopping_Centers)  + (groupbinary) : (timebinary) :(category_Shops_and_Services)   + C(year) + C(poi_id) + C(category) + C(city)', \n",
    "                data=long_df).fit()\n",
    "print(model_cat.summary())"
   ]
  },
  {
   "cell_type": "code",
   "execution_count": null,
   "id": "5c847890-4f70-459c-afe0-f6c34d963ccf",
   "metadata": {},
   "outputs": [],
   "source": []
  },
  {
   "cell_type": "code",
   "execution_count": null,
   "id": "f9db655d-eae9-4e30-854f-62f24e8c3242",
   "metadata": {},
   "outputs": [],
   "source": []
  }
 ],
 "metadata": {
  "kernelspec": {
   "display_name": "Python [conda env:base] *",
   "language": "python",
   "name": "conda-base-py"
  },
  "language_info": {
   "codemirror_mode": {
    "name": "ipython",
    "version": 3
   },
   "file_extension": ".py",
   "mimetype": "text/x-python",
   "name": "python",
   "nbconvert_exporter": "python",
   "pygments_lexer": "ipython3",
   "version": "3.12.7"
  }
 },
 "nbformat": 4,
 "nbformat_minor": 5
}
